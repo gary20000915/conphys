{
 "cells": [
  {
   "cell_type": "code",
   "execution_count": null,
   "metadata": {},
   "outputs": [],
   "source": [
    "import numpy as np\n",
    "import numpy.random as random"
   ]
  },
  {
   "attachments": {},
   "cell_type": "markdown",
   "metadata": {},
   "source": [
    "# NumPy Random numbers\n",
    "\n",
    "Random numbers are extremely useful for statisitc analysis.\\\n",
    "It could be used for numiercal calculations as well (so called the Monte Carlo methods).\n",
    "\n",
    "However, generating random numbers with a computer is not esay.\\\n",
    "It rquires a random number generator.\n",
    "\n",
    "Python has a build-in random number generator that can be used by `import random`.\n",
    "\n",
    "In practice, NEVER use the default random number generator for scientidical calculations.\\\n",
    "The rule is applied to most programming language."
   ]
  },
  {
   "cell_type": "code",
   "execution_count": null,
   "metadata": {},
   "outputs": [],
   "source": [
    "# don't use the default random number generator for scientifical calculations.\n",
    "#\n",
    "#import random  "
   ]
  },
  {
   "attachments": {},
   "cell_type": "markdown",
   "metadata": {},
   "source": [
    "`numpy` has a much better random number generator.\\\n",
    " It can be imported by `import numpy.random as random`.\n",
    "\n",
    " All random number generators requrie a \"seed\" to initialize the generator.\\\n",
    " The default seed is usually taken from some time-dependent variable.\\\n",
    " Thus, everytime you call the generator, it will give you a different random number.\n",
    "\n",
    " When developing or debuggin the code, you want to keep the same seed to reproduce the same results.\n",
    " We could specify the seed by: "
   ]
  },
  {
   "cell_type": "code",
   "execution_count": null,
   "metadata": {},
   "outputs": [],
   "source": [
    "random.seed(seed=123) # optional; used if you want to reproduce the results"
   ]
  },
  {
   "attachments": {},
   "cell_type": "markdown",
   "metadata": {},
   "source": [
    "This is a convenience, legacy function that exists to support older code.\n",
    "\n",
    "The new way to set the random number seed is to use the `Generator` instance. "
   ]
  },
  {
   "cell_type": "code",
   "execution_count": null,
   "metadata": {},
   "outputs": [],
   "source": [
    "rng = random.default_rng(seed=12345) # set the seed\n",
    "print(rng) # a random number generator"
   ]
  },
  {
   "cell_type": "code",
   "execution_count": null,
   "metadata": {},
   "outputs": [],
   "source": [
    "# Generator 10 random integers from 0 to 100\n",
    "\n",
    "# old way\n",
    "random.randint(low=0, high=100, size=10)\n",
    "\n",
    "# new way\n",
    "rng.integers(low=0, high=100, size=10)"
   ]
  },
  {
   "cell_type": "code",
   "execution_count": null,
   "metadata": {},
   "outputs": [],
   "source": [
    "# Generate 10 random floats from 0 to 1.\n",
    "\n",
    "# old way\n",
    "random.rand(10)\n",
    "\n",
    "# new way\n",
    "rng.random(10)"
   ]
  },
  {
   "cell_type": "code",
   "execution_count": null,
   "metadata": {},
   "outputs": [],
   "source": [
    "# Generate 5x5 random floats from 0 to 1\n",
    "\n",
    "# old way\n",
    "random.rand(5,5)\n",
    "\n",
    "# new way\n",
    "rng.random((5,5))"
   ]
  },
  {
   "attachments": {},
   "cell_type": "markdown",
   "metadata": {},
   "source": [
    "### Exercise 1: Random numbers\n",
    "\n",
    "1. Generate 10 random numbers from -1 to 1.\n",
    "2. Generate 10 random numbers from 0 to 100."
   ]
  },
  {
   "cell_type": "code",
   "execution_count": null,
   "metadata": {},
   "outputs": [],
   "source": [
    "# TODO:\n",
    "\n",
    "\n",
    "\n",
    "\n",
    "\n",
    "\n",
    "\n",
    "\n"
   ]
  },
  {
   "attachments": {},
   "cell_type": "markdown",
   "metadata": {},
   "source": [
    "### Generate random samples from a given array\n",
    "\n",
    "Instead of generate random integers/numbers, we want to randomly generate samples from a given array.\n",
    "\n",
    "For example, a poker deck 13x4 cards. "
   ]
  },
  {
   "cell_type": "code",
   "execution_count": null,
   "metadata": {},
   "outputs": [],
   "source": [
    "# Poker\n",
    "ranks = [\"2\",\"3\",\"4\",\"5\",\"6\",\"7\",\"8\",\"9\",\"10\",\"J\",\"Q\",\"K\"]\n",
    "suits = [\"S\",\"D\",\"H\",\"C\"]"
   ]
  },
  {
   "cell_type": "code",
   "execution_count": null,
   "metadata": {},
   "outputs": [],
   "source": [
    "# Randomly pickup a rank from ranks\n",
    "\n",
    "# old way\n",
    "random.choice(ranks, size=1)\n",
    "\n",
    "# new way\n",
    "rng.choice(ranks, size=1)\n",
    "\n"
   ]
  },
  {
   "attachments": {},
   "cell_type": "markdown",
   "metadata": {},
   "source": [
    "we could assign a given probability function a well."
   ]
  },
  {
   "cell_type": "code",
   "execution_count": null,
   "metadata": {},
   "outputs": [],
   "source": [
    "# Randomly pickup 10 numbers from a list=[1,2,3,4,5] with a probability function 'p'\n",
    "\n",
    "# old way\n",
    "random.choice([1,2,3,4,5], p = [0.8, 0.05, 0.05, 0.05, 0.05], size= 10)\n",
    "\n",
    "# new way\n",
    "rng.choice([1,2,3,4,5],p=[0.8, 0.05, 0.05, 0.05, 0.05], size=10)"
   ]
  },
  {
   "attachments": {},
   "cell_type": "markdown",
   "metadata": {},
   "source": [
    "### Shuffing an array (list)"
   ]
  },
  {
   "cell_type": "code",
   "execution_count": null,
   "metadata": {},
   "outputs": [],
   "source": [
    "students = [\"Einstein\", \"Newton\", \"Maxwell\"]\n",
    "\n",
    "# old way\n",
    "random.shuffle(students)\n",
    "print(students)\n",
    "\n",
    "# new way\n",
    "rng.shuffle(students)"
   ]
  },
  {
   "attachments": {},
   "cell_type": "markdown",
   "metadata": {},
   "source": [
    "## Exercise 2: A Gacha Game (轉蛋)\n",
    "\n",
    "Write a very simple Gacha game.\n",
    "\n",
    "1. Write a python class named \"Gacha\".\n",
    "2. The class has three attibutes, which are numpy arrys. Each array host the character polls with different ranks.\n",
    "3. There are three ranks in this Gacha game: super rare (SR), super-super rare (SSR), and ultra rate (UR). \n",
    "4. The probabilities to draw each rank are: SR: 87%, SSR: 10%, and UR: 3% \n",
    "5. Use the character polls I provided below. \n",
    "5. Write a class instance called \"draw()\". It will return tuple contains rank and a character with that rank."
   ]
  },
  {
   "cell_type": "code",
   "execution_count": null,
   "metadata": {},
   "outputs": [],
   "source": [
    "from dataclasses import dataclass\n",
    "\n",
    "@dataclass\n",
    "class Character:\n",
    "    def __init__(self,name, rank, skills=None):\n",
    "        self.name  = name\n",
    "        self.skill = skills\n",
    "        if rank.upper() in (\"SR\",\"SSR\", \"UR\"):\n",
    "            self.rank = rank.upper()\n",
    "        else:\n",
    "            raise ValueError(f\"Unspport rank {rank}\")\n",
    "        return"
   ]
  },
  {
   "cell_type": "code",
   "execution_count": null,
   "metadata": {},
   "outputs": [],
   "source": [
    "ur_physicists = [\n",
    "    \"Albert Einstein\",\n",
    "    \"Isaac Newton\",\n",
    "    \"Richard Feynman\",\n",
    "    \"Stephen Hawking\",\n",
    "    \"Niels Bohr\",\n",
    "    \"Max Planck\",\n",
    "    \"Erwin Schrödinger\",\n",
    "    \"Werner Heisenberg\",\n",
    "    \"Galileo Galilei\",\n",
    "    \"Marie Curie\"\n",
    "]\n",
    "\n",
    "ssr_physicists = [\n",
    "    \"James Clerk Maxwell\",\n",
    "    \"Michael Faraday\",\n",
    "    \"Enrico Fermi\",\n",
    "    \"Ernest Rutherford\",\n",
    "    \"Paul Dirac\",\n",
    "    \"Wolfgang Pauli\",\n",
    "    \"Carl Sagan\",\n",
    "    \"Brian Greene\",\n",
    "    \"Lisa Randall\",\n",
    "    \"Neil deGrasse Tyson\"\n",
    "]\n",
    "\n",
    "sr_physicists = [\n",
    "    \"Albert Michelson\",\n",
    "    \"Christiaan Huygens\",\n",
    "    \"Hermann Minkowski\",\n",
    "    \"J. Robert Oppenheimer\",\n",
    "    \"Lise Meitner\",\n",
    "    \"Robert Boyle\",\n",
    "    \"Sally Ride\",\n",
    "    \"Srinivasa Ramanujan\",\n",
    "    \"Subrahmanyan Chandrasekhar\",\n",
    "    \"William Thomson (Lord Kelvin)\"\n",
    "]"
   ]
  },
  {
   "cell_type": "code",
   "execution_count": null,
   "metadata": {},
   "outputs": [],
   "source": [
    "chars_sr  = [Character(name=name,rank=\"sr\")  for name in sr_physicists]\n",
    "chars_ssr = [Character(name=name,rank=\"ssr\") for name in ssr_physicists]\n",
    "chars_ur  = [Character(name=name,rank=\"ur\")  for name in ur_physicists]"
   ]
  },
  {
   "cell_type": "code",
   "execution_count": null,
   "metadata": {},
   "outputs": [],
   "source": [
    "class Gacha:\n",
    "    pass\n",
    "\n",
    "# TODO\n",
    "\n",
    "\n",
    "\n",
    "\n",
    "\n",
    "\n",
    "\n",
    "\n",
    "\n",
    "\n",
    "\n"
   ]
  },
  {
   "attachments": {},
   "cell_type": "markdown",
   "metadata": {},
   "source": [
    "### continues\n",
    "\n",
    "7. draw 100 times, measure how many UR did you get? and how many `Albert Einstein` did you get?\n",
    "8. Now assuming that there is a \"Albert Einstein\" pickup poll. Keep the same 3% probability for UR characters, but raise the probability to draw Einstein to 0.75% and make other UR characters have a uniform probability function.\n",
    "9. If you need 5 copies of Albert Einstein, measure how many draws do you need?\n",
    "10. If 30 draws cost 2000 NTD, how much money you spent to get 5 Albert Einstein? (note that different people has different answer. You could measure that you are 歐洲人 or 非洲人)\n"
   ]
  },
  {
   "cell_type": "code",
   "execution_count": null,
   "metadata": {},
   "outputs": [],
   "source": [
    "gacha = Gacha()\n",
    "\n",
    "# TODO:\n",
    "\n",
    "\n",
    "\n",
    "\n",
    "\n",
    "\n",
    "\n",
    "\n",
    "\n",
    "\n",
    "\n"
   ]
  },
  {
   "attachments": {},
   "cell_type": "markdown",
   "metadata": {},
   "source": [
    "Take home message: Gacha games are evil. "
   ]
  },
  {
   "attachments": {},
   "cell_type": "markdown",
   "metadata": {},
   "source": [
    "### Exercuse 3: Monte Carllo method for numerical integration.\n",
    "\n",
    "```\n",
    "    +----------------------------------------+   \n",
    "    1 |          ..--/\"\"\"\"\"|\"\"\"\"\\--._          | y1\n",
    "      |      .r*\"`         |         \"*..      | y2\n",
    "      |    ./'             |            '\\.    |   \n",
    "      |  _/                |               \\,  |   \n",
    "      | /                  |                \"\\ |   \n",
    "      |.`                  |                  .|   \n",
    "      |,                   |                  ,|   \n",
    "      |r-------------------r-------------------|   \n",
    "      |.                   |                  .|   \n",
    "      |\\.                  |                  ,|   \n",
    "      | \\                  |                ./ |   \n",
    "      |  \".                |               ./  |   \n",
    "      |   \"\\..             |            ../`   |   \n",
    "      |      \"*._.         |         _r*'      |   \n",
    "   -1 |          '\\--._____L____.--/\"          |   \n",
    "      +----------------------------------------+   \n",
    "       -1                                     1  \n",
    "```\n",
    "\n",
    "We know that the area of a unit circle is PI.\\\n",
    "A cicumscribing square has an area 2x2 =4.\\\n",
    "\n",
    "We randomly throw `N` darts in the is square, we can count how many darts are within the circle (called it `M`).\n",
    "The ratio of darts within the circle to the total number of darts (N) should represent the area ratio of circle to the squre.\n",
    "Therefore, M/N = pi/4, gives pi = (4 * M/N).\n",
    "\n",
    "\n"
   ]
  },
  {
   "attachments": {},
   "cell_type": "markdown",
   "metadata": {},
   "source": [
    "1. Use the Monte Carlo method we described above to calculate PI with N= 10_000.\n",
    "2. Check the convergence by increasing the number of N. Did it converge? How fast is the converging rate?"
   ]
  },
  {
   "cell_type": "code",
   "execution_count": null,
   "metadata": {},
   "outputs": [],
   "source": [
    "# TODO\n",
    "\n",
    "\n",
    "\n",
    "\n",
    "\n",
    "\n",
    "\n",
    "\n",
    "\n",
    "\n",
    "\n",
    "\n",
    "\n",
    "\n"
   ]
  },
  {
   "cell_type": "code",
   "execution_count": null,
   "metadata": {},
   "outputs": [],
   "source": []
  }
 ],
 "metadata": {
  "kernelspec": {
   "display_name": "comphys",
   "language": "python",
   "name": "python3"
  },
  "language_info": {
   "codemirror_mode": {
    "name": "ipython",
    "version": 3
   },
   "file_extension": ".py",
   "mimetype": "text/x-python",
   "name": "python",
   "nbconvert_exporter": "python",
   "pygments_lexer": "ipython3",
   "version": "3.10.9"
  },
  "orig_nbformat": 4
 },
 "nbformat": 4,
 "nbformat_minor": 2
}
