{
 "cells": [
  {
   "attachments": {},
   "cell_type": "markdown",
   "metadata": {},
   "source": [
    "# **Computational Physics**\n",
    "## Homework 3\n",
    "### Stefan-Boltzmann constant evaluation\n",
    "> Author : Yuan-Yen Peng    \n",
    "> License: MIT    \n",
    "> Email  : garyphys0915@gapp.nthu.edu.tw     \n",
    "> Date   : May 08, 2023    \n",
    "> Version: 2.1"
   ]
  },
  {
   "cell_type": "code",
   "execution_count": 17,
   "metadata": {},
   "outputs": [],
   "source": [
    "import numpy as np\n",
    "from numba import njit\n",
    "import integrator"
   ]
  },
  {
   "attachments": {},
   "cell_type": "markdown",
   "metadata": {},
   "source": [
    "#### (a), (b) Customized default class    \n",
    "Use midpoint method and trapezoidal method (also check with the simpson method)"
   ]
  },
  {
   "cell_type": "code",
   "execution_count": 18,
   "metadata": {},
   "outputs": [],
   "source": [
    "import scipy.constants as const\n",
    "import warnings\n",
    "\n",
    "pi = const.pi\n",
    "h = const.h\n",
    "c = const.c\n",
    "k = const.k\n",
    "T = 6000\n",
    "# ignore large number or (small number) in exponential\n",
    "warnings.filterwarnings('ignore')"
   ]
  },
  {
   "cell_type": "code",
   "execution_count": 19,
   "metadata": {},
   "outputs": [],
   "source": [
    "@njit(parallel=True)\n",
    "def boltz(x):\n",
    "  tor = 1e-20\n",
    "  nu = 2*h*x**3\n",
    "  de = c**2*(np.exp(h*x/(k*T)) - 1) + tor\n",
    "  return (nu/de)*pi/T**4"
   ]
  },
  {
   "cell_type": "code",
   "execution_count": 20,
   "metadata": {},
   "outputs": [],
   "source": [
    "N = 10_000_000\n",
    "# use large upper bound as an infinity\n",
    "upper = int(1e20)"
   ]
  },
  {
   "cell_type": "code",
   "execution_count": 21,
   "metadata": {},
   "outputs": [
    {
     "name": "stdout",
     "output_type": "stream",
     "text": [
      "Use default python (customized class)\n",
      "Mid   result: 5.670374549497005e-08\n",
      "Trapz result: 5.670374270255775e-08\n",
      "Simp  result: 5.670374270255775e-08\n"
     ]
    }
   ],
   "source": [
    "integrate = integrator.Integrator(func=boltz)\n",
    "my_mid   = integrate.midpoint(a=0, b=upper, N=N)\n",
    "my_trapz = integrate.trapz(a=0, b=upper, N=N)\n",
    "my_simp  = integrate.trapz(a=0, b=upper, N=N)\n",
    "print(\"Use default python (customized class)\")\n",
    "print(f\"Mid   result: {my_mid}\")\n",
    "print(f\"Trapz result: {my_trapz}\")\n",
    "print(f\"Simp  result: {my_simp}\")\n",
    "del my_mid, my_trapz, my_simp"
   ]
  },
  {
   "attachments": {},
   "cell_type": "markdown",
   "metadata": {},
   "source": [
    "#### (c), (d) Numpy methods\n",
    "Use `np.sum()` and `np.trapz()`"
   ]
  },
  {
   "cell_type": "code",
   "execution_count": 22,
   "metadata": {},
   "outputs": [
    {
     "name": "stdout",
     "output_type": "stream",
     "text": [
      "Use numpy sum: 5.670373703218297e-08\n",
      "Use numpy trapz: 5.670373703218297e-08\n"
     ]
    }
   ],
   "source": [
    "dx = upper/N\n",
    "x = np.linspace(0, upper, N)\n",
    "np_sum = np.sum(boltz(x)*dx)\n",
    "print(f\"Use numpy sum: {np_sum}\")\n",
    "np_trapz = np.trapz(boltz(x), dx=dx)\n",
    "print(f\"Use numpy trapz: {np_trapz}\")\n",
    "del np_sum, np_trapz"
   ]
  },
  {
   "attachments": {},
   "cell_type": "markdown",
   "metadata": {},
   "source": [
    "#### (e) Use Monte Carlo method"
   ]
  },
  {
   "cell_type": "code",
   "execution_count": 23,
   "metadata": {},
   "outputs": [],
   "source": [
    "@njit(parallel=True)\n",
    "def kernel(y: np.ndarray, y_boltz: np.ndarray) -> tuple:\n",
    "  inside, tot = 0, 0\n",
    "  for i in range(N):\n",
    "    if y[i] <= y_boltz[i]:\n",
    "      inside +=1\n",
    "    tot += 1\n",
    "  return inside, tot"
   ]
  },
  {
   "cell_type": "code",
   "execution_count": 24,
   "metadata": {},
   "outputs": [
    {
     "name": "stdout",
     "output_type": "stream",
     "text": [
      "Use MC method with sample size N = 10000000\n",
      "The answer is: 6.353521088180136e-08 \n",
      "\n"
     ]
    }
   ],
   "source": [
    "rng = np.random.default_rng(seed=2252)\n",
    "x       = upper*rng.random(N)\n",
    "y_boltz = np.array([boltz(i) for i in x])\n",
    "y       = y_boltz.max()*rng.random(N)\n",
    "# use numba to accelarate\n",
    "inside, tot = kernel(y, y_boltz)\n",
    "area = upper*y_boltz.max()*(inside/tot)\n",
    "print(f\"Use MC method with sample size N = {N}\\nThe answer is: {area} \\n\")\n",
    "del x, y, y_boltz, area"
   ]
  },
  {
   "attachments": {},
   "cell_type": "markdown",
   "metadata": {},
   "source": [
    "#### (f) Measure the numerical errors as a function of the sample size"
   ]
  },
  {
   "cell_type": "code",
   "execution_count": 25,
   "metadata": {},
   "outputs": [
    {
     "name": "stdout",
     "output_type": "stream",
     "text": [
      "Use MC method with sample size N = 1000\n",
      " The answer is: 0.0 \n",
      "\n",
      "Use MC method with sample size N = 10000\n",
      " The answer is: 1.2265898354912354e-26 \n",
      "\n",
      "Use MC method with sample size N = 100000\n",
      " The answer is: 6.238796085509831e-07 \n",
      "\n",
      "Use MC method with sample size N = 1000000\n",
      " The answer is: 0.008848555693403612 \n",
      "\n",
      "Use MC method with sample size N = 10000000\n",
      " The answer is: 6.405920149274166e-08 \n",
      "\n",
      "Use MC method with sample size N = 100000000\n",
      " The answer is: 5.559556728863976e-08 \n",
      "\n"
     ]
    }
   ],
   "source": [
    "N_test = [1_000, 10_000, 100_000, 1_000_000, 10_000_000, 100_000_000]\n",
    "arr_area = np.empty(len(N_test))\n",
    "for ind, n in enumerate(N_test):\n",
    "  x       = upper*rng.random(n)\n",
    "  y_boltz = np.array([boltz(i) for i in x])\n",
    "  y       = y_boltz.max()*rng.random(n)\n",
    "  # use numba to accelarate\n",
    "  inside, tot = kernel(y, y_boltz)\n",
    "  area = upper*y_boltz.max()*(inside/tot)\n",
    "  arr_area[ind] = area\n",
    "  print(f\"Use MC method with sample size N = {n}\\n  The answer is: {area} \\n\")"
   ]
  },
  {
   "cell_type": "code",
   "execution_count": 26,
   "metadata": {},
   "outputs": [
    {
     "data": {
      "text/plain": [
       "<matplotlib.legend.Legend at 0x1274bf5e0>"
      ]
     },
     "execution_count": 26,
     "metadata": {},
     "output_type": "execute_result"
    },
    {
     "data": {
      "image/png": "[encoded data removed]",
      "text/plain": [
       "<Figure size 720x560 with 1 Axes>"
      ]
     },
     "metadata": {},
     "output_type": "display_data"
    }
   ],
   "source": [
    "from matplotlib import pyplot as plt\n",
    "\n",
    "rmse = lambda test, exact: np.sqrt(np.mean((test - exact)**2))\n",
    "err  = [1/np.sqrt(n) for n in N_test]\n",
    "arr_rmse = [rmse(x, const.sigma) for x in arr_area]\n",
    "\n",
    "fig = plt.figure(figsize=(9,7), dpi=80)\n",
    "plt.plot(N_test, arr_rmse, '--.', label=\"RMSE\")\n",
    "plt.plot(N_test, err, '--.', label=\"theo. error\")\n",
    "plt.xticks(N_test)\n",
    "plt.semilogx()\n",
    "plt.xlabel(\"sample size\")\n",
    "plt.ylabel(\"error\")\n",
    "plt.legend(loc=\"best\")"
   ]
  },
  {
   "cell_type": "code",
   "execution_count": null,
   "metadata": {},
   "outputs": [],
   "source": []
  }
 ],
 "metadata": {
  "kernelspec": {
   "display_name": "comphys",
   "language": "python",
   "name": "python3"
  },
  "language_info": {
   "codemirror_mode": {
    "name": "ipython",
    "version": 3
   },
   "file_extension": ".py",
   "mimetype": "text/x-python",
   "name": "python",
   "nbconvert_exporter": "python",
   "pygments_lexer": "ipython3",
   "version": "3.10.10"
  },
  "orig_nbformat": 4
 },
 "nbformat": 4,
 "nbformat_minor": 2
}
