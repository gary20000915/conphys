{
 "cells": [
  {
   "cell_type": "code",
   "execution_count": 1,
   "metadata": {},
   "outputs": [],
   "source": [
    "import numpy as np"
   ]
  },
  {
   "attachments": {},
   "cell_type": "markdown",
   "metadata": {},
   "source": [
    "# NumPy for Input/Output\n",
    "\n",
    "In eariler lectures, we have learned how to use `f = open()` to read/write data into a file.\\\n",
    "However, the simple useage require a lot of work to specify the data format/structure.\n",
    "\n",
    "In this tutorial, we will learn how to use `numpy` to load/write data.\\\n",
    "Another popular package for handling python data is called `pandas` (REF: https://pandas.pydata.org/docs/user_guide/index.html).\\\n",
    "We might or might not talk about `pandas` in this course, depending on the progress of learning. "
   ]
  },
  {
   "attachments": {},
   "cell_type": "markdown",
   "metadata": {},
   "source": [
    "## Write data (numpy arrays) into a text file.\n",
    "\n",
    "We could write data to a text file with `numpy.savetxt()`.\\\n",
    "REF: https://numpy.org/doc/stable/reference/generated/numpy.savetxt.html#numpy.savetxt"
   ]
  },
  {
   "cell_type": "code",
   "execution_count": 2,
   "metadata": {},
   "outputs": [],
   "source": [
    "# create some fake data first\n",
    "times = np.linspace(0,1,20)\n",
    "posx  = 5.0*times + 0.5*0.0*times**2\n",
    "posy  = 5.0*times - 0.5*9.81*times**2\n",
    "velx  = 5.0 + 0.0*times\n",
    "vely  = 5.0 - 9.81*times"
   ]
  },
  {
   "cell_type": "code",
   "execution_count": 3,
   "metadata": {},
   "outputs": [
    {
     "name": "stdout",
     "output_type": "stream",
     "text": [
      "[0.         0.26315789 0.52631579 0.78947368 1.05263158 1.31578947\n",
      " 1.57894737 1.84210526 2.10526316 2.36842105 2.63157895 2.89473684\n",
      " 3.15789474 3.42105263 3.68421053 3.94736842 4.21052632 4.47368421\n",
      " 4.73684211 5.        ]\n"
     ]
    }
   ],
   "source": [
    "print(posx)"
   ]
  },
  {
   "cell_type": "code",
   "execution_count": 4,
   "metadata": {},
   "outputs": [],
   "source": [
    "# save to a text file\n",
    "np.savetxt('data_test1.txt',times)\n",
    "np.savetxt('data_test2.csv',(times,posx,posy,velx,vely), delimiter=',')\n",
    "np.savetxt('data_test3.log',(times,posx,posy,velx,vely),fmt='%1.14e', delimiter=' ') # use scientific notation\n",
    "np.savetxt('data_test4.csv',(times,posx,posy,velx,vely),fmt='%14.6e', delimiter=',', header='header', footer='footer', comments='%') # add header"
   ]
  },
  {
   "cell_type": "code",
   "execution_count": 10,
   "metadata": {},
   "outputs": [],
   "source": [
    "# if we want the format similar to our previous Trajectory.py\n",
    "header = \"Angry bird trajectory: \\n\"\n",
    "header += \"created by Gary 2023/05/07\\n \\n\"\n",
    "header += f\"{'times':14}, {'posx':14}, {'posy':14}, {'velx':14}, {'vely':14}\"\n",
    "footer = \"A footer\"\n",
    "np.savetxt('data_test5.csv',np.array([times,posx,posy,velx,vely]).T,fmt='%14.6e', delimiter=',', header=header, footer=footer, comments='#') # add header"
   ]
  },
  {
   "attachments": {},
   "cell_type": "markdown",
   "metadata": {},
   "source": [
    "## Load (text) data files\n",
    "\n",
    "To load the plain text data file, we could use `numpy.loadtxt()`.\\\n",
    "REF: https://numpy.org/doc/stable/reference/generated/numpy.loadtxt.html"
   ]
  },
  {
   "cell_type": "code",
   "execution_count": 34,
   "metadata": {},
   "outputs": [],
   "source": [
    "# save to a text file\n",
    "np.savetxt('data_test1.txt',times, encoding='utf8')\n",
    "np.savetxt('data_test2.txt',(times,posx,posy,velx,vely), delimiter=' ', encoding='utf8')\n",
    "np.savetxt('data_test3.txt',(times,posx,posy,velx,vely),fmt='%1.14e', delimiter=' ', encoding='utf8') # use scientific notation\n",
    "np.savetxt('data_test4.txt',(times,posx,posy,velx,vely),fmt='%14.6e', delimiter=' ', header='header', footer='footer', comments='#', encoding='utf8') # add header\n",
    "# if we want the format similar to our previous Trajectory.py\n",
    "header = \"Angry bird trajectory: \\n\"\n",
    "header += \"created by Gary 2023/05/07\\n \\n\"\n",
    "header += f\"{'times':14}, {'posx':14}, {'posy':14}, {'velx':14}, {'vely':14}\"\n",
    "footer = \"A footer\"\n",
    "np.savetxt('data_test5.txt',np.array([times,posx,posy,velx,vely]).T,fmt='%14.6e', delimiter=' ', header=header, footer=footer, comments='#') # add header"
   ]
  },
  {
   "cell_type": "code",
   "execution_count": 35,
   "metadata": {},
   "outputs": [
    {
     "name": "stdout",
     "output_type": "stream",
     "text": [
      "0.000000000000000000e+00\n",
      "5.263157894736839731e-02\n",
      "1.052631578947370028e-01\n",
      "1.578947368421050046e-01\n",
      "2.105263157894740056e-01\n"
     ]
    }
   ],
   "source": [
    "# We could use the shell command 'cat' to check the data first.\n",
    "!head -n 5 'data_test1.txt'"
   ]
  },
  {
   "cell_type": "code",
   "execution_count": 36,
   "metadata": {},
   "outputs": [
    {
     "name": "stdout",
     "output_type": "stream",
     "text": [
      "[0.         0.05263158 0.10526316 0.15789474 0.21052632 0.26315789\n",
      " 0.31578947 0.36842105 0.42105263 0.47368421 0.52631579 0.57894737\n",
      " 0.63157895 0.68421053 0.73684211 0.78947368 0.84210526 0.89473684\n",
      " 0.94736842 1.        ]\n"
     ]
    }
   ],
   "source": [
    "db1 = np.loadtxt('data_test1.txt')\n",
    "print(db1)"
   ]
  },
  {
   "cell_type": "code",
   "execution_count": 37,
   "metadata": {},
   "outputs": [
    {
     "name": "stdout",
     "output_type": "stream",
     "text": [
      "[0.         0.05263158 0.10526316 0.15789474 0.21052632 0.26315789\n",
      " 0.31578947 0.36842105 0.42105263 0.47368421 0.52631579 0.57894737\n",
      " 0.63157895 0.68421053 0.73684211 0.78947368 0.84210526 0.89473684\n",
      " 0.94736842 1.        ] [0.         0.26315789 0.52631579 0.78947368 1.05263158 1.31578947\n",
      " 1.57894737 1.84210526 2.10526316 2.36842105 2.63157895 2.89473684\n",
      " 3.15789474 3.42105263 3.68421053 3.94736842 4.21052632 4.47368421\n",
      " 4.73684211 5.        ] [0.         0.24957064 0.47196676 0.66718837 0.83523546 0.97610803\n",
      " 1.08980609 1.17632964 1.23567867 1.26785319 1.27285319 1.25067867\n",
      " 1.20132964 1.12480609 1.02110803 0.89023546 0.73218837 0.54696676\n",
      " 0.33457064 0.095     ] [5. 5. 5. 5. 5. 5. 5. 5. 5. 5. 5. 5. 5. 5. 5. 5. 5. 5. 5. 5.] [ 5.          4.48368421  3.96736842  3.45105263  2.93473684  2.41842105\n",
      "  1.90210526  1.38578947  0.86947368  0.35315789 -0.16315789 -0.67947368\n",
      " -1.19578947 -1.71210526 -2.22842105 -2.74473684 -3.26105263 -3.77736842\n",
      " -4.29368421 -4.81      ]\n"
     ]
    }
   ],
   "source": [
    "db2 = np.loadtxt('data_test2.txt')\n",
    "[times, posx, posy, velx, vely] = db2\n",
    "print(times,posx, posy,velx,vely)"
   ]
  },
  {
   "cell_type": "code",
   "execution_count": 38,
   "metadata": {},
   "outputs": [
    {
     "name": "stdout",
     "output_type": "stream",
     "text": [
      "[0.         0.05263158 0.10526316 0.15789474 0.21052632 0.26315789\n",
      " 0.31578947 0.36842105 0.42105263 0.47368421 0.52631579 0.57894737\n",
      " 0.63157895 0.68421053 0.73684211 0.78947368 0.84210526 0.89473684\n",
      " 0.94736842 1.        ] [0.         0.26315789 0.52631579 0.78947368 1.05263158 1.31578947\n",
      " 1.57894737 1.84210526 2.10526316 2.36842105 2.63157895 2.89473684\n",
      " 3.15789474 3.42105263 3.68421053 3.94736842 4.21052632 4.47368421\n",
      " 4.73684211 5.        ] [0.         0.24957064 0.47196676 0.66718837 0.83523546 0.97610803\n",
      " 1.08980609 1.17632964 1.23567867 1.26785319 1.27285319 1.25067867\n",
      " 1.20132964 1.12480609 1.02110803 0.89023546 0.73218837 0.54696676\n",
      " 0.33457064 0.095     ] [5. 5. 5. 5. 5. 5. 5. 5. 5. 5. 5. 5. 5. 5. 5. 5. 5. 5. 5. 5.] [ 5.          4.48368421  3.96736842  3.45105263  2.93473684  2.41842105\n",
      "  1.90210526  1.38578947  0.86947368  0.35315789 -0.16315789 -0.67947368\n",
      " -1.19578947 -1.71210526 -2.22842105 -2.74473684 -3.26105263 -3.77736842\n",
      " -4.29368421 -4.81      ]\n"
     ]
    }
   ],
   "source": [
    "# We could custmize the `delimiter` and `comments` as well. \n",
    "db3 = np.loadtxt('data_test3.txt', delimiter=' ', comments='#')\n",
    "[times, posx, posy, velx, vely] = db3\n",
    "print(times,posx, posy,velx,vely)"
   ]
  },
  {
   "cell_type": "code",
   "execution_count": 39,
   "metadata": {},
   "outputs": [
    {
     "name": "stdout",
     "output_type": "stream",
     "text": [
      "[0.         0.05263158 0.1052632  0.1578947  0.2105263  0.2631579\n",
      " 0.3157895  0.3684211  0.4210526  0.4736842  0.5263158  0.5789474\n",
      " 0.6315789  0.6842105  0.7368421  0.7894737  0.8421053  0.8947368\n",
      " 0.9473684  1.        ] [0.        0.2631579 0.5263158 0.7894737 1.052632  1.315789  1.578947\n",
      " 1.842105  2.105263  2.368421  2.631579  2.894737  3.157895  3.421053\n",
      " 3.684211  3.947368  4.210526  4.473684  4.736842  5.       ] [0.        0.2495706 0.4719668 0.6671884 0.8352355 0.976108  1.089806\n",
      " 1.17633   1.235679  1.267853  1.272853  1.250679  1.20133   1.124806\n",
      " 1.021108  0.8902355 0.7321884 0.5469668 0.3345706 0.095    ] [5. 5. 5. 5. 5. 5. 5. 5. 5. 5. 5. 5. 5. 5. 5. 5. 5. 5. 5. 5.] [ 5.         4.483684   3.967368   3.451053   2.934737   2.418421\n",
      "  1.902105   1.385789   0.8694737  0.3531579 -0.1631579 -0.6794737\n",
      " -1.195789  -1.712105  -2.228421  -2.744737  -3.261053  -3.777368\n",
      " -4.293684  -4.81     ]\n"
     ]
    }
   ],
   "source": [
    "# `data_test5.txt` had a transpose beofore saving the data, we could convert it back\n",
    "# with the `unpack=True` argument. \n",
    "db5 = np.loadtxt('data_test5.txt', unpack=True)\n",
    "[times, posx, posy, velx, vely] = db5\n",
    "print(times,posx, posy,velx,vely)"
   ]
  },
  {
   "cell_type": "code",
   "execution_count": 40,
   "metadata": {},
   "outputs": [
    {
     "name": "stdout",
     "output_type": "stream",
     "text": [
      "[0.         0.05263158 0.1052632  0.1578947  0.2105263  0.2631579\n",
      " 0.3157895  0.3684211  0.4210526  0.4736842  0.5263158  0.5789474\n",
      " 0.6315789  0.6842105  0.7368421  0.7894737  0.8421053  0.8947368\n",
      " 0.9473684  1.        ] [0.        0.2631579 0.5263158 0.7894737 1.052632  1.315789  1.578947\n",
      " 1.842105  2.105263  2.368421  2.631579  2.894737  3.157895  3.421053\n",
      " 3.684211  3.947368  4.210526  4.473684  4.736842  5.       ] [5. 5. 5. 5. 5. 5. 5. 5. 5. 5. 5. 5. 5. 5. 5. 5. 5. 5. 5. 5.]\n"
     ]
    }
   ],
   "source": [
    "# If we only need part of the data, we could set `usecols=[]` to save loading time.\n",
    "[times, posx, velx] = np.loadtxt('data_test5.txt', usecols=[0,1,3], unpack=True)\n",
    "print(times,posx, velx)"
   ]
  },
  {
   "cell_type": "code",
   "execution_count": 41,
   "metadata": {},
   "outputs": [
    {
     "name": "stdout",
     "output_type": "stream",
     "text": [
      "20\n",
      "[0.         0.05263158 0.1052632  0.1578947  0.2105263  0.2631579\n",
      " 0.3157895  0.3684211  0.4210526  0.4736842  0.5263158  0.5789474\n",
      " 0.6315789  0.6842105  0.7368421  0.7894737  0.8421053  0.8947368\n",
      " 0.9473684  1.        ]\n",
      "18\n",
      "[0.1052632 0.1578947 0.2105263 0.2631579 0.3157895 0.3684211 0.4210526\n",
      " 0.4736842 0.5263158 0.5789474 0.6315789 0.6842105 0.7368421 0.7894737\n",
      " 0.8421053 0.8947368 0.9473684 1.       ]\n",
      "10\n",
      "[0.         0.05263158 0.1052632  0.1578947  0.2105263  0.2631579\n",
      " 0.3157895  0.3684211  0.4210526  0.4736842 ]\n"
     ]
    }
   ],
   "source": [
    "# We could also skip a given number of rows in the data\n",
    "times = np.loadtxt('data_test5.txt', usecols=[0], unpack=True)\n",
    "print(len(times))\n",
    "print(times)\n",
    "times = np.loadtxt('data_test5.txt', usecols=[0], unpack=True, skiprows=6) # note that the `skiprows` includes header\n",
    "print(len(times))\n",
    "print(times)\n",
    "times = np.loadtxt('data_test5.txt', usecols=[0], unpack=True, skiprows=4,max_rows=10) # max_rows doesn't inculde header/footer\n",
    "print(len(times))\n",
    "print(times)"
   ]
  },
  {
   "attachments": {},
   "cell_type": "markdown",
   "metadata": {},
   "source": [
    "## Save or Load to a binary file\n",
    "\n",
    "Plain texts are easy to read and check the data but they use more dist storage than binary file.\\\n",
    "Therefore, if the data size is big, it is better to store the data as a binary file(s). "
   ]
  },
  {
   "cell_type": "code",
   "execution_count": 42,
   "metadata": {},
   "outputs": [],
   "source": [
    "# Create Fake big data\n",
    "data = np.ones(shape=(1024,1024)) # a 2D numpy array"
   ]
  },
  {
   "cell_type": "code",
   "execution_count": 44,
   "metadata": {},
   "outputs": [],
   "source": [
    "# First, use `np.savetxt()'\n",
    "np.savetxt('data1.d',data)"
   ]
  },
  {
   "cell_type": "code",
   "execution_count": 45,
   "metadata": {},
   "outputs": [],
   "source": [
    "# Use `np.save()` \n",
    "np.save('data1',data)"
   ]
  },
  {
   "cell_type": "code",
   "execution_count": 46,
   "metadata": {},
   "outputs": [],
   "source": [
    "# Use `np.savez()` to store a zip file\n",
    "# zip file could zip multiple numpy arrays, \n",
    "# but use only one array fist for an example\n",
    "np.savez('data1',data)"
   ]
  },
  {
   "cell_type": "code",
   "execution_count": 47,
   "metadata": {},
   "outputs": [],
   "source": [
    "# `np.savez_compressed()` do the same things as `np.savez()`,\n",
    "# but is compressed. \n",
    "np.savez_compressed('data1z',data)"
   ]
  },
  {
   "cell_type": "code",
   "execution_count": 50,
   "metadata": {},
   "outputs": [
    {
     "name": "stdout",
     "output_type": "stream",
     "text": [
      "-rw-r--r--@ 1 gary  staff    25M May  8 17:18 data1.d\n",
      "-rw-r--r--@ 1 gary  staff   8.0M May  8 17:18 data1.npy\n",
      "-rw-r--r--@ 1 gary  staff   8.0M May  8 17:18 data1.npz\n",
      "-rw-r--r--@ 1 gary  staff    12K May  8 17:18 data1z.npz\n"
     ]
    }
   ],
   "source": [
    "# check the file size\n",
    "!ls -lh data1*"
   ]
  },
  {
   "attachments": {},
   "cell_type": "markdown",
   "metadata": {},
   "source": [
    "Loading the binary data ..."
   ]
  },
  {
   "cell_type": "code",
   "execution_count": 53,
   "metadata": {},
   "outputs": [
    {
     "name": "stdout",
     "output_type": "stream",
     "text": [
      "[[1. 1. 1. ... 1. 1. 1.]\n",
      " [1. 1. 1. ... 1. 1. 1.]\n",
      " [1. 1. 1. ... 1. 1. 1.]\n",
      " ...\n",
      " [1. 1. 1. ... 1. 1. 1.]\n",
      " [1. 1. 1. ... 1. 1. 1.]\n",
      " [1. 1. 1. ... 1. 1. 1.]]\n",
      "[[1. 1. 1. ... 1. 1. 1.]\n",
      " [1. 1. 1. ... 1. 1. 1.]\n",
      " [1. 1. 1. ... 1. 1. 1.]\n",
      " ...\n",
      " [1. 1. 1. ... 1. 1. 1.]\n",
      " [1. 1. 1. ... 1. 1. 1.]\n",
      " [1. 1. 1. ... 1. 1. 1.]]\n",
      "True\n",
      "[[1. 1. 1. ... 1. 1. 1.]\n",
      " [1. 1. 1. ... 1. 1. 1.]\n",
      " [1. 1. 1. ... 1. 1. 1.]\n",
      " ...\n",
      " [1. 1. 1. ... 1. 1. 1.]\n",
      " [1. 1. 1. ... 1. 1. 1.]\n",
      " [1. 1. 1. ... 1. 1. 1.]]\n",
      "[[1. 1. 1. ... 1. 1. 1.]\n",
      " [1. 1. 1. ... 1. 1. 1.]\n",
      " [1. 1. 1. ... 1. 1. 1.]\n",
      " ...\n",
      " [1. 1. 1. ... 1. 1. 1.]\n",
      " [1. 1. 1. ... 1. 1. 1.]\n",
      " [1. 1. 1. ... 1. 1. 1.]]\n"
     ]
    }
   ],
   "source": [
    "db1_txt = np.loadtxt('data1.d')\n",
    "db1_bin = np.load('data1.npy')\n",
    "db1_zip = np.load('data1.npz')\n",
    "db1_cz  = np.load('data1z.npz')\n",
    "print(db1_txt)\n",
    "print(db1_bin)\n",
    "print(db1_txt.all() == db1_bin.all())\n",
    "print(db1_zip['arr_0']) # the default key\n",
    "print(db1_cz['arr_0'])  # the default key"
   ]
  },
  {
   "attachments": {},
   "cell_type": "markdown",
   "metadata": {},
   "source": [
    "### Save mupltiple data into a compressed zip file\n",
    "\n",
    "In the angry bird example, we have multiple numpy arrays (e.g. times, posx, posy, ...)\\\n",
    "We could give a `key` to these data and store everything in a binary file.\n"
   ]
  },
  {
   "cell_type": "code",
   "execution_count": 54,
   "metadata": {},
   "outputs": [],
   "source": [
    "# create some fake data first\n",
    "times = np.linspace(0,1,1000)\n",
    "posx  = 5.0*times + 0.5*0.0*times**2\n",
    "posy  = 5.0*times - 0.5*9.81*times**2\n",
    "velx  = 5.0 + 0.0*times\n",
    "vely  = 5.0 - 9.81*times"
   ]
  },
  {
   "cell_type": "code",
   "execution_count": 55,
   "metadata": {},
   "outputs": [],
   "source": [
    "# save to a binary file\n",
    "np.savez_compressed('data2',times=times,\n",
    "                    posx=posx,posy=posy, \n",
    "                    velx=velx,vely=vely)"
   ]
  },
  {
   "cell_type": "code",
   "execution_count": 58,
   "metadata": {},
   "outputs": [
    {
     "name": "stdout",
     "output_type": "stream",
     "text": [
      "['times', 'posx', 'posy', 'velx', 'vely']\n",
      "[0.         0.001001   0.002002   0.003003   0.004004   0.00500501\n",
      " 0.00600601 0.00700701 0.00800801 0.00900901]\n",
      "[0.         0.00500501 0.01001001 0.01501502 0.02002002 0.02502503\n",
      " 0.03003003 0.03503504 0.04004004 0.04504505]\n"
     ]
    }
   ],
   "source": [
    "# Load the binary files\n",
    "db = np.load('data2.npz')\n",
    "\n",
    "# show the keys\n",
    "print(db.files)\n",
    "\n",
    "# access the data\n",
    "print(db[\"times\"][0:10])\n",
    "print(db[\"posx\"][0:10])"
   ]
  },
  {
   "attachments": {},
   "cell_type": "markdown",
   "metadata": {},
   "source": [
    "## Exercise: NumPy IO for the angry bird game\n",
    "\n",
    "Modify the below angry bird sample code to store the trajectories with `numpy.savetxt` and `numpy.savez_compressed`."
   ]
  },
  {
   "cell_type": "code",
   "execution_count": 63,
   "metadata": {},
   "outputs": [],
   "source": [
    "#\n",
    "#\n",
    "#\n",
    "#           TODO: Modify this program\n",
    "#\n",
    "#\n",
    "#\n",
    "\n",
    "import sys\n",
    "import math\n",
    "import matplotlib.pyplot as plt\n",
    "from typing import List\n",
    "\n",
    "# Constants\n",
    "G        = 9.81 # gravitational accerlation      [m/s/s]\n",
    "DISTANCE = 100  # distance to the pig            [m]\n",
    "DX       = 1    # error tolerance                [m]\n",
    "DT       = 0.1  # time step to record trajectory [sec]\n",
    "\n",
    "def play(velocity=30, angle=45, plot=True):\n",
    "    \"\"\"\n",
    "    The main function to play the angry bird game.\n",
    "    \"\"\"\n",
    "    print(f\"The input velociy is {velocity}\")\n",
    "    print(f\"The input angle is {angle}\")\n",
    "    values   = [velocity,angle]\n",
    "    distance = calculate_trajectory(values, plot)\n",
    "    \n",
    "    if abs(distance - DISTANCE) <= DX:\n",
    "        print(\"You win!!!\")\n",
    "    else:\n",
    "        print(f\"Ooopps. dx = {distance - DISTANCE}\")\n",
    "\n",
    "    return # play()\n",
    "\n",
    "def calculate_trajectory(values:List[float], plot:bool) -> float:\n",
    "    \"\"\"\n",
    "    Functio to calculate the trajectory of the angry bird\n",
    "\n",
    "    :parama values: [velocity, angle]\n",
    "    :return: the distance to travel\n",
    "    \"\"\"\n",
    "    v0  = values[0]\n",
    "    angle     = values[1]\n",
    "    angle_rad = math.radians(angle)\n",
    "\n",
    "    # calculate the travel distance\n",
    "    distance = v0**2 * math.sin(2*angle_rad) / G\n",
    "\n",
    "    # calculate times, positions_x,_y, vx, vy, ..\n",
    "    time = 2.0 * v0*math.sin(angle_rad) /G  # total fly time\n",
    "    nsteps = math.ceil(time / DT) + 1\n",
    "    \n",
    "    times = []\n",
    "    posx  = []\n",
    "    posy  = []\n",
    "    velx  = []\n",
    "    vely  = []\n",
    "\n",
    "    t  = 0.0\n",
    "    vx0 = v0 * math.cos(angle_rad)\n",
    "    vy0 = v0 * math.sin(angle_rad)\n",
    "    for n in range(nsteps):\n",
    "        # calculate time\n",
    "        if (t > time):\n",
    "            t = time\n",
    "        times.append(t)\n",
    "\n",
    "        # calculate position and velocity\n",
    "        x  = vx0 * t\n",
    "        y  = vy0 * t - 0.5*G*t**2\n",
    "        vx = vx0\n",
    "        vy = vy0 - G*t\n",
    "        posx.append(x)\n",
    "        posy.append(y)\n",
    "        velx.append(vx)\n",
    "        vely.append(vy)\n",
    "\n",
    "        t += DT\n",
    "\n",
    "    if plot:\n",
    "        plot_trajectory(posx,posy)\n",
    "    # output(times, posx, posy, velx, vely)\n",
    "    output_numpy(times, posx, posy, velx, vely)\n",
    "\n",
    "    return distance\n",
    "\n",
    "def output( times:List[float], posx:List[float], \n",
    "            posy:List[float], velx:List[float], \n",
    "            vely:List[float]):\n",
    "    \"\"\"\n",
    "    Write the trajectory to a file\n",
    "\n",
    "    :param times: a list to store time info\n",
    "    :param posx: a list to store x positions\n",
    "    :param posy: a list to store y positions\n",
    "    :param velx: a list to store vx\n",
    "    :param vely: a list to store vy\n",
    "\n",
    "    :return: None\n",
    "    \"\"\"\n",
    "\n",
    "    f = open(\"trajectory.txt\",mode=\"w\")\n",
    "    f.write(\"# {:>12}  {:>12}  {:>12}  {:>12}  {:>12}\\n\".format(\"time [s]\",\n",
    "                                                            \"x [m]\", \"y [m]\", \n",
    "                                                            \"vx [m/s]\", \"vy [ms]\"))\n",
    "\n",
    "    for t,x,y,vx,vy in zip(times,posx,posy,velx,vely):\n",
    "        line = f\"  {t:>12.6e}  {x:>12.6e}  {y:>12.6e}  {vx:>12.6e}  {vy:>12.6e}\\n\"\n",
    "        f.write(line)\n",
    "\n",
    "    f.close()\n",
    "    return\n",
    "\n",
    "def output_numpy(times:List[float], posx:List[float], \n",
    "                posy:List[float], velx:List[float], \n",
    "                vely:List[float]) -> None:\n",
    "    \"\"\"\n",
    "    Write the trajectory to a file\n",
    "\n",
    "    :param times: a list to store time info\n",
    "    :param posx: a list to store x positions\n",
    "    :param posy: a list to store y positions\n",
    "    :param velx: a list to store vx\n",
    "    :param vely: a list to store vy\n",
    "\n",
    "    :return\n",
    "    \"\"\"\n",
    "    np.savez_compressed('angrybird_data_npz',\n",
    "                        times=times,\n",
    "                        posx=posx, posy=posy, \n",
    "                        velx=velx, vely=vely)\n",
    "    \n",
    "    return\n",
    "\n",
    "\n",
    "def plot_trajectory(x:List[float],y:List[float]):\n",
    "    \"\"\"\n",
    "    Plot the trajectroy and save it as a png file.\n",
    "\n",
    "    :param x: a python list that inlcudes the x positions of a trajectory\n",
    "    :param y: a python list that includes the y positions of a trajectory\n",
    "    :param show: show the plot or not\n",
    "    \n",
    "    both lists must have the same length\n",
    "    \"\"\"\n",
    "    if len(x) != len(y):\n",
    "        print(\"Error: the length of the lists x and y must be the same!\")\n",
    "    else:\n",
    "        plt.figure(1,figsize=(8,6))\n",
    "        plt.plot(x,y,'-o')\n",
    "        plt.xlabel(' X [code units]')\n",
    "        plt.ylabel(' Y [code units]')\n",
    "        plt.savefig('fig_trajectory.png')\n",
    "    return"
   ]
  },
  {
   "cell_type": "code",
   "execution_count": 64,
   "metadata": {},
   "outputs": [
    {
     "name": "stdout",
     "output_type": "stream",
     "text": [
      "The input velociy is 32\n",
      "The input angle is 45\n",
      "Ooopps. dx = 4.383282364933734\n"
     ]
    },
    {
     "data": {
      "image/png": "[encoded data removed]",
      "text/plain": [
       "<Figure size 800x600 with 1 Axes>"
      ]
     },
     "metadata": {},
     "output_type": "display_data"
    }
   ],
   "source": [
    "# Play the game\n",
    "play(velocity=32,angle=45,plot=True)"
   ]
  },
  {
   "cell_type": "code",
   "execution_count": 66,
   "metadata": {},
   "outputs": [
    {
     "name": "stdout",
     "output_type": "stream",
     "text": [
      "['times', 'posx', 'posy', 'velx', 'vely']\n",
      "[0.  0.1 0.2 0.3 0.4 0.5 0.6 0.7 0.8 0.9]\n",
      "[ 0.         2.2627417  4.5254834  6.7882251  9.0509668 11.3137085\n",
      " 13.5764502 15.8391919 18.1019336 20.3646753]\n",
      "[0.00000000e+00 2.21369170e+00 4.32928340e+00 6.34677510e+00\n",
      " 8.26616680e+00 1.00874585e+01 1.18106502e+01 1.34357419e+01\n",
      " 1.49627336e+01 1.63916253e+01 1.77224170e+01 1.89551087e+01\n",
      " 2.00897004e+01 2.11261921e+01 2.20645838e+01 2.29048755e+01\n",
      " 2.36470672e+01 2.42911589e+01 2.48371506e+01 2.52850423e+01\n",
      " 2.56348340e+01 2.58865257e+01 2.60401174e+01 2.60956091e+01\n",
      " 2.60530008e+01 2.59122925e+01 2.56734842e+01 2.53365759e+01\n",
      " 2.49015676e+01 2.43684593e+01 2.37372510e+01 2.30079427e+01\n",
      " 2.21805344e+01 2.12550261e+01 2.02314178e+01 1.91097095e+01\n",
      " 1.78899012e+01 1.65719929e+01 1.51559846e+01 1.36418763e+01\n",
      " 1.20296680e+01 1.03193597e+01 8.51095139e+00 6.60444309e+00\n",
      " 4.59983479e+00 2.49712649e+00 2.96318191e-01 1.42108547e-14]\n"
     ]
    }
   ],
   "source": [
    "# Load the binary files\n",
    "db = np.load('angrybird_data_npz.npz')\n",
    "\n",
    "# show the keys\n",
    "keys = db.files\n",
    "print(keys)\n",
    "\n",
    "# access the data\n",
    "print(db[keys[0]][0:10])\n",
    "print(db[keys[1]][0:10])\n",
    "print(db[keys[2]])"
   ]
  },
  {
   "cell_type": "code",
   "execution_count": null,
   "metadata": {},
   "outputs": [],
   "source": []
  }
 ],
 "metadata": {
  "kernelspec": {
   "display_name": "comphys",
   "language": "python",
   "name": "python3"
  },
  "language_info": {
   "codemirror_mode": {
    "name": "ipython",
    "version": 3
   },
   "file_extension": ".py",
   "mimetype": "text/x-python",
   "name": "python",
   "nbconvert_exporter": "python",
   "pygments_lexer": "ipython3",
   "version": "3.10.10"
  },
  "orig_nbformat": 4
 },
 "nbformat": 4,
 "nbformat_minor": 2
}
