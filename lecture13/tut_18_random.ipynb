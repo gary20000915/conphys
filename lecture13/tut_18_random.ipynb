{
 "cells": [
  {
   "cell_type": "code",
   "execution_count": 2,
   "metadata": {},
   "outputs": [],
   "source": [
    "import numpy as np\n",
    "import numpy.random as random\n",
    "import matplotlib.pyplot as plt"
   ]
  },
  {
   "attachments": {},
   "cell_type": "markdown",
   "metadata": {},
   "source": [
    "# NumPy Random numbers\n",
    "\n",
    "Random numbers are extremely useful for statisitc analysis.\\\n",
    "It could be used for numiercal calculations as well (so called the Monte Carlo methods).\n",
    "\n",
    "However, generating random numbers with a computer is not esay.\\\n",
    "It rquires a random number generator.\n",
    "\n",
    "Python has a build-in random number generator that can be used by `import random`.\n",
    "\n",
    "In practice, NEVER use the default random number generator for scientidical calculations.\\\n",
    "The rule is applied to most programming language."
   ]
  },
  {
   "cell_type": "code",
   "execution_count": 3,
   "metadata": {},
   "outputs": [],
   "source": [
    "# don't use the default random number generator for scientifical calculations.\n",
    "#\n",
    "#import random  "
   ]
  },
  {
   "attachments": {},
   "cell_type": "markdown",
   "metadata": {},
   "source": [
    "`numpy` has a much better random number generator.\\\n",
    " It can be imported by `import numpy.random as random`.\n",
    "\n",
    " All random number generators requrie a \"seed\" to initialize the generator.\\\n",
    " The default seed is usually taken from some time-dependent variable.\\\n",
    " Thus, everytime you call the generator, it will give you a different random number.\n",
    "\n",
    " When developing or debuggin the code, you want to keep the same seed to reproduce the same results.\n",
    " We could specify the seed by: "
   ]
  },
  {
   "cell_type": "code",
   "execution_count": 4,
   "metadata": {},
   "outputs": [],
   "source": [
    "random.seed(seed=123) # optional; used if you want to reproduce the results"
   ]
  },
  {
   "attachments": {},
   "cell_type": "markdown",
   "metadata": {},
   "source": [
    "This is a convenience, legacy function that exists to support older code.\n",
    "\n",
    "The new way to set the random number seed is to use the `Generator` instance. "
   ]
  },
  {
   "cell_type": "code",
   "execution_count": 5,
   "metadata": {},
   "outputs": [
    {
     "name": "stdout",
     "output_type": "stream",
     "text": [
      "Generator(PCG64)\n"
     ]
    }
   ],
   "source": [
    "rng = random.default_rng(seed=12345) # set the seed\n",
    "print(rng) # a random number generator"
   ]
  },
  {
   "cell_type": "code",
   "execution_count": 6,
   "metadata": {},
   "outputs": [
    {
     "name": "stdout",
     "output_type": "stream",
     "text": [
      "0.6964691855978616\n",
      "0.28613933495037946\n"
     ]
    }
   ],
   "source": [
    "print(random.random())\n",
    "print(random.random())"
   ]
  },
  {
   "cell_type": "code",
   "execution_count": 7,
   "metadata": {},
   "outputs": [
    {
     "data": {
      "text/plain": [
       "array([69, 22, 78, 31, 20, 79, 64, 67, 98, 39])"
      ]
     },
     "execution_count": 7,
     "metadata": {},
     "output_type": "execute_result"
    }
   ],
   "source": [
    "# Generator 10 random integers from 0 to 100\n",
    "\n",
    "# old way\n",
    "random.randint(low=0, high=100, size=10)\n",
    "\n",
    "# new way\n",
    "rng.integers(low=0, high=100, size=10)"
   ]
  },
  {
   "cell_type": "code",
   "execution_count": 8,
   "metadata": {},
   "outputs": [
    {
     "name": "stdout",
     "output_type": "stream",
     "text": [
      "[0.33281393 0.59830875 0.18673419 0.67275604 0.94180287 0.24824571\n",
      " 0.94888115 0.66723745 0.09589794 0.44183967]\n",
      "[0.88647992]\n",
      "0.6974534998820221\n"
     ]
    }
   ],
   "source": [
    "# Generate 10 random floats from 0 to 1.\n",
    "\n",
    "# old way\n",
    "random.rand(10)\n",
    "\n",
    "# new way\n",
    "print(rng.random(10))\n",
    "print(rng.random(1))\n",
    "print(rng.random())"
   ]
  },
  {
   "cell_type": "code",
   "execution_count": 9,
   "metadata": {},
   "outputs": [
    {
     "data": {
      "text/plain": [
       "array([[0.32647286, 0.73392816, 0.22013496, 0.08159457, 0.1598956 ],\n",
       "       [0.34010018, 0.46519315, 0.26642103, 0.8157764 , 0.19329439],\n",
       "       [0.12946908, 0.09166475, 0.59856801, 0.8547419 , 0.60162124],\n",
       "       [0.93198836, 0.72478136, 0.86055132, 0.9293378 , 0.54618601],\n",
       "       [0.93767296, 0.49498794, 0.27377318, 0.45177871, 0.66503892]])"
      ]
     },
     "execution_count": 9,
     "metadata": {},
     "output_type": "execute_result"
    }
   ],
   "source": [
    "# Generate 5x5 random floats from 0 to 1\n",
    "\n",
    "# old way\n",
    "random.rand(5,5)\n",
    "\n",
    "# new way\n",
    "rng.random((5,5))"
   ]
  },
  {
   "attachments": {},
   "cell_type": "markdown",
   "metadata": {},
   "source": [
    "### Exercise 1: Random numbers\n",
    "\n",
    "1. Generate 10 random numbers from -1 to 1. [float]\n",
    "2. Generate 10 random numbers from 0 to 100. [float]"
   ]
  },
  {
   "cell_type": "code",
   "execution_count": 10,
   "metadata": {},
   "outputs": [
    {
     "name": "stdout",
     "output_type": "stream",
     "text": [
      "[-0.33821814  0.80690801 -0.48585165 -0.32034332 -0.4822932  -0.28910704\n",
      " -0.98995533  0.25720909 -0.43523459 -0.86382462]\n",
      "[61.68289773 17.63263203 30.43883872 44.08868109 15.02023411 21.79288631\n",
      " 47.43331153 47.63688551 25.52323538 29.75652681]\n"
     ]
    }
   ],
   "source": [
    "# TODO:\n",
    "\n",
    "data1 = 2*rng.random(10) - 1\n",
    "data2 = 100*rng.random(10)\n",
    "\n",
    "print(data1)\n",
    "print(data2)\n"
   ]
  },
  {
   "attachments": {},
   "cell_type": "markdown",
   "metadata": {},
   "source": [
    "### Generate random samples from a given array\n",
    "\n",
    "Instead of generate random integers/numbers, we want to randomly generate samples from a given array.\n",
    "\n",
    "For example, a poker deck 13x4 cards. "
   ]
  },
  {
   "cell_type": "code",
   "execution_count": 11,
   "metadata": {},
   "outputs": [],
   "source": [
    "# Poker\n",
    "ranks = [\"2\",\"3\",\"4\",\"5\",\"6\",\"7\",\"8\",\"9\",\"10\",\"J\",\"Q\",\"K\"]\n",
    "suits = [\"S\",\"D\",\"H\",\"C\"]"
   ]
  },
  {
   "cell_type": "code",
   "execution_count": 12,
   "metadata": {},
   "outputs": [
    {
     "data": {
      "text/plain": [
       "array(['K', '5', '10', '5', 'Q'], dtype='<U2')"
      ]
     },
     "execution_count": 12,
     "metadata": {},
     "output_type": "execute_result"
    }
   ],
   "source": [
    "# Randomly pickup a rank from ranks\n",
    "\n",
    "# old way\n",
    "random.choice(ranks, size=1)\n",
    "\n",
    "# new way\n",
    "rng.choice(ranks, size=5)"
   ]
  },
  {
   "attachments": {},
   "cell_type": "markdown",
   "metadata": {},
   "source": [
    "we could assign a given probability function a well."
   ]
  },
  {
   "cell_type": "code",
   "execution_count": 13,
   "metadata": {},
   "outputs": [
    {
     "data": {
      "text/plain": [
       "array([1, 1, 1, 2, 1, 3, 1, 1, 1, 1])"
      ]
     },
     "execution_count": 13,
     "metadata": {},
     "output_type": "execute_result"
    }
   ],
   "source": [
    "# Randomly pickup 10 numbers from a list=[1,2,3,4,5] with a probability function 'p'\n",
    "\n",
    "# old way\n",
    "random.choice([1,2,3,4,5], p = [0.8, 0.05, 0.05, 0.05, 0.05], size= 10)\n",
    "\n",
    "# new way\n",
    "rng.choice([1,2,3,4,5],p=[0.8, 0.05, 0.05, 0.05, 0.05], size=10)"
   ]
  },
  {
   "attachments": {},
   "cell_type": "markdown",
   "metadata": {},
   "source": [
    "### Shuffing an array (list)"
   ]
  },
  {
   "cell_type": "code",
   "execution_count": 14,
   "metadata": {},
   "outputs": [
    {
     "name": "stdout",
     "output_type": "stream",
     "text": [
      "['Maxwell', 'Newton', 'Einstein']\n",
      "Einstein\n",
      "Newton\n",
      "Maxwell\n"
     ]
    }
   ],
   "source": [
    "students = [\"Einstein\", \"Newton\", \"Maxwell\"]\n",
    "\n",
    "# old way\n",
    "random.shuffle(students)\n",
    "print(students)\n",
    "\n",
    "# new way\n",
    "rng.shuffle(students)\n",
    "\n",
    "for s in students:\n",
    "  print(s)"
   ]
  },
  {
   "attachments": {},
   "cell_type": "markdown",
   "metadata": {},
   "source": [
    "## Exercise 2: A Gacha Game (轉蛋)\n",
    "\n",
    "Write a very simple Gacha game.\n",
    "\n",
    "1. Write a python class named \"Gacha\".\n",
    "2. The class has three attibutes, which are numpy arrys. Each array host the character polls with different ranks.\n",
    "3. There are three ranks in this Gacha game: super rare (SR), super-super rare (SSR), and ultra rate (UR). \n",
    "4. The probabilities to draw each rank are: SR: 87%, SSR: 10%, and UR: 3% \n",
    "5. Use the character polls I provided below. \n",
    "5. Write a class instance called \"draw()\". It will return tuple contains rank and a character with that rank."
   ]
  },
  {
   "cell_type": "code",
   "execution_count": 15,
   "metadata": {},
   "outputs": [],
   "source": [
    "from dataclasses import dataclass\n",
    "\n",
    "@dataclass\n",
    "class Character:\n",
    "    def __init__(self,name, rank, skills=None):\n",
    "        self.name  = name\n",
    "        self.skill = skills\n",
    "        if rank.upper() in (\"SR\",\"SSR\", \"UR\"):\n",
    "            self.rank = rank.upper()\n",
    "        else:\n",
    "            raise ValueError(f\"Unspport rank {rank}\")\n",
    "        return"
   ]
  },
  {
   "cell_type": "code",
   "execution_count": 16,
   "metadata": {},
   "outputs": [],
   "source": [
    "ur_physicists = [\n",
    "    \"Albert Einstein\",\n",
    "    \"Isaac Newton\",\n",
    "    \"Richard Feynman\",\n",
    "    \"Stephen Hawking\",\n",
    "    \"Niels Bohr\",\n",
    "    \"Max Planck\",\n",
    "    \"Erwin Schrödinger\",\n",
    "    \"Werner Heisenberg\",\n",
    "    \"Galileo Galilei\",\n",
    "    \"Marie Curie\"\n",
    "]\n",
    "\n",
    "ssr_physicists = [\n",
    "    \"James Clerk Maxwell\",\n",
    "    \"Michael Faraday\",\n",
    "    \"Enrico Fermi\",\n",
    "    \"Ernest Rutherford\",\n",
    "    \"Paul Dirac\",\n",
    "    \"Wolfgang Pauli\",\n",
    "    \"Carl Sagan\",\n",
    "    \"Brian Greene\",\n",
    "    \"Lisa Randall\",\n",
    "    \"Neil deGrasse Tyson\"\n",
    "]\n",
    "\n",
    "sr_physicists = [\n",
    "    \"Albert Michelson\",\n",
    "    \"Christiaan Huygens\",\n",
    "    \"Hermann Minkowski\",\n",
    "    \"J. Robert Oppenheimer\",\n",
    "    \"Lise Meitner\",\n",
    "    \"Robert Boyle\",\n",
    "    \"Sally Ride\",\n",
    "    \"Srinivasa Ramanujan\",\n",
    "    \"Subrahmanyan Chandrasekhar\",\n",
    "    \"William Thomson (Lord Kelvin)\"\n",
    "]"
   ]
  },
  {
   "cell_type": "code",
   "execution_count": 17,
   "metadata": {},
   "outputs": [],
   "source": [
    "chars_sr  = [Character(name=name,rank=\"sr\")  for name in sr_physicists]\n",
    "chars_ssr = [Character(name=name,rank=\"ssr\") for name in ssr_physicists]\n",
    "chars_ur  = [Character(name=name,rank=\"ur\")  for name in ur_physicists]"
   ]
  },
  {
   "cell_type": "code",
   "execution_count": 18,
   "metadata": {},
   "outputs": [],
   "source": [
    "class Gacha:\n",
    "    def __init__(self, chars_sr, chars_ssr, chars_ur) -> None:\n",
    "        self.chars_sr = chars_sr\n",
    "        self.chars_ssr = chars_ssr\n",
    "        self.chars_ur = chars_ur\n",
    "        self.rng = random.default_rng()\n",
    "\n",
    "    def draw(self, size):\n",
    "        self.size = size\n",
    "        chars = self.chars_sr + self.chars_ssr + self.chars_ur\n",
    "        prob_sr  = np.ones(len(self.chars_sr))*0.87\n",
    "        prob_ssr = np.ones(len(self.chars_ssr))*0.1\n",
    "        prob_ur  = np.ones(len(self.chars_ur))*0.03\n",
    "        prob = np.concatenate((prob_sr, prob_ssr, prob_ur))\n",
    "        prob_norm = prob/np.sum(prob)\n",
    "        char_draw = self.rng.choice(chars, p=prob_norm, size=size)\n",
    "        return char_draw"
   ]
  },
  {
   "cell_type": "code",
   "execution_count": 19,
   "metadata": {},
   "outputs": [
    {
     "name": "stdout",
     "output_type": "stream",
     "text": [
      "(SR ) Robert Boyle\n",
      "(SR ) Albert Michelson\n",
      "(SR ) Srinivasa Ramanujan\n",
      "(SR ) Srinivasa Ramanujan\n",
      "(SR ) Lise Meitner\n",
      "(SR ) J. Robert Oppenheimer\n",
      "(SR ) Lise Meitner\n",
      "(SR ) Albert Michelson\n",
      "(SR ) Robert Boyle\n",
      "(SR ) J. Robert Oppenheimer\n"
     ]
    }
   ],
   "source": [
    "N = 10\n",
    "g = Gacha(chars_sr, chars_ssr, chars_ur)\n",
    "g_class = g.draw(N)\n",
    "for i in g_class:\n",
    "  print(f'({i.rank:3}) {i.name}')"
   ]
  },
  {
   "attachments": {},
   "cell_type": "markdown",
   "metadata": {},
   "source": [
    "### continues\n",
    "\n",
    "7. draw 100 times, measure how many UR did you get? and how many `Albert Einstein` did you get?\n",
    "8. Now assuming that there is a \"Albert Einstein\" pickup poll. Keep the same 3% probability for UR characters, but raise the probability to draw Einstein to 0.75% and make other UR characters have a uniform probability function.\n",
    "9. If you need 5 copies of Albert Einstein, measure how many draws do you need?\n",
    "10. If 30 draws cost 2000 NTD, how much money you spent to get 5 Albert Einstein? (note that different people has different answer. You could measure that you are 歐洲人 or 非洲人)\n"
   ]
  },
  {
   "cell_type": "code",
   "execution_count": 20,
   "metadata": {},
   "outputs": [],
   "source": [
    "class Gacha:\n",
    "    def __init__(self, chars_sr, chars_ssr, chars_ur) -> None:\n",
    "        self.chars_sr = chars_sr\n",
    "        self.chars_ssr = chars_ssr\n",
    "        self.chars_ur = chars_ur\n",
    "        self.rng = random.default_rng()\n",
    "        self.counter = 0\n",
    "        self.counter_sr = 0\n",
    "        self.counter_ssr = 0\n",
    "        self.counter_ur = 0\n",
    "        self.albert = 0\n",
    "\n",
    "    def draw(self, size,):\n",
    "        self.size = size\n",
    "        chars = self.chars_sr + self.chars_ssr + self.chars_ur\n",
    "        prob_sr  = np.ones(len(self.chars_sr))*0.87\n",
    "        prob_ssr = np.ones(len(self.chars_ssr))*0.1\n",
    "        prob_ur  = np.ones(len(self.chars_ur))*0.03\n",
    "        prob = np.concatenate((prob_sr, prob_ssr, prob_ur))\n",
    "        prob_norm = prob/np.sum(prob)\n",
    "        char_draw = self.rng.choice(chars, p=prob_norm, size=size)\n",
    "        for i in char_draw:\n",
    "            if self.albert > 4:\n",
    "                break\n",
    "            self.counter += 1\n",
    "            if i.rank == \"UR\":\n",
    "                self.counter_ur += 1\n",
    "            if i.rank == \"SSR\":\n",
    "                self.counter_ssr += 1\n",
    "            if i.rank == \"SR\":\n",
    "                self.counter_sr += 1\n",
    "            if i.name == \"Albert Einstein\":\n",
    "                self.albert += 1\n",
    "        \n",
    "        # Show statistics\n",
    "        print(f'Albert Einstein: {self.albert} times')\n",
    "        print(f'Total: {self.counter}')\n",
    "        print(f'SR : {self.counter_sr:<4} times, prob = {(self.counter_sr/self.counter)*100:<6.3f}%')\n",
    "        print(f'SSR: {self.counter_ssr:<4} times, prob = {(self.counter_ssr/self.counter)*100:<6.3f}%')\n",
    "        print(f'UR : {self.counter_ur:<4} times, prob = {(self.counter_ur/self.counter)*100:<6.3f}%')\n",
    "        return "
   ]
  },
  {
   "cell_type": "code",
   "execution_count": 21,
   "metadata": {},
   "outputs": [
    {
     "name": "stdout",
     "output_type": "stream",
     "text": [
      "Albert Einstein: 5 times\n",
      "Total: 2879\n",
      "SR : 2541 times, prob = 88.260%\n",
      "SSR: 270  times, prob = 9.378 %\n",
      "UR : 68   times, prob = 2.362 %\n"
     ]
    }
   ],
   "source": [
    "N = int(1e4)\n",
    "g_albert = Gacha(chars_sr, chars_ssr, chars_ur)\n",
    "g_class = g_albert.draw(N)"
   ]
  },
  {
   "attachments": {},
   "cell_type": "markdown",
   "metadata": {},
   "source": [
    "Take home message: Gacha games are evil. "
   ]
  },
  {
   "attachments": {},
   "cell_type": "markdown",
   "metadata": {},
   "source": [
    "### Exercuse 3: Monte Carllo method for numerical integration.\n",
    "\n",
    "```\n",
    "    +----------------------------------------+   \n",
    "    1 |          ..--/\"\"\"\"\"|\"\"\"\"\\--._          | y1\n",
    "      |      .r*\"`         |         \"*..      | y2\n",
    "      |    ./'             |            '\\.    |   \n",
    "      |  _/                |               \\,  |   \n",
    "      | /                  |                \"\\ |   \n",
    "      |.`                  |                  .|   \n",
    "      |,                   |                  ,|   \n",
    "      |r-------------------r-------------------|   \n",
    "      |.                   |                  .|   \n",
    "      |\\.                  |                  ,|   \n",
    "      | \\                  |                ./ |   \n",
    "      |  \".                |               ./  |   \n",
    "      |   \"\\..             |            ../`   |   \n",
    "      |      \"*._.         |         _r*'      |   \n",
    "   -1 |          '\\--._____L____.--/\"          |   \n",
    "      +----------------------------------------+   \n",
    "       -1                                     1  \n",
    "```\n",
    "\n",
    "We know that the area of a unit circle is PI.\\\n",
    "A cicumscribing square has an area 2x2 =4.\\\n",
    "\n",
    "We randomly throw `N` darts in the is square, we can count how many darts are within the circle (called it `M`).\n",
    "The ratio of darts within the circle to the total number of darts (N) should represent the area ratio of circle to the squre.\n",
    "Therefore, M/N = pi/4, gives pi = (4 * M/N).\n",
    "\n",
    "\n"
   ]
  },
  {
   "attachments": {},
   "cell_type": "markdown",
   "metadata": {},
   "source": [
    "1. Use the Monte Carlo method we described above to calculate PI with N= 10_000.\n",
    "2. Check the convergence by increasing the number of N. Did it converge? How fast is the converging rate?"
   ]
  },
  {
   "cell_type": "code",
   "execution_count": 29,
   "metadata": {},
   "outputs": [
    {
     "name": "stdout",
     "output_type": "stream",
     "text": [
      "3.1232\n"
     ]
    }
   ],
   "source": [
    "# TODO\n",
    "\n",
    "N = int(1e4)\n",
    "x = 2*rng.random(N) - 1\n",
    "y = 2*rng.random(N) - 1\n",
    "inside = 0\n",
    "tot = 0\n",
    "\n",
    "dis = np.sqrt(np.square(x) + np.square(y))\n",
    "for i in dis:\n",
    "  if i <= 1:\n",
    "    inside += 1\n",
    "  tot += 1\n",
    "\n",
    "area = 4*inside/tot\n",
    "print(area)"
   ]
  },
  {
   "cell_type": "code",
   "execution_count": null,
   "metadata": {},
   "outputs": [],
   "source": []
  }
 ],
 "metadata": {
  "kernelspec": {
   "display_name": "comphys",
   "language": "python",
   "name": "python3"
  },
  "language_info": {
   "codemirror_mode": {
    "name": "ipython",
    "version": 3
   },
   "file_extension": ".py",
   "mimetype": "text/x-python",
   "name": "python",
   "nbconvert_exporter": "python",
   "pygments_lexer": "ipython3",
   "version": "3.10.10"
  },
  "orig_nbformat": 4
 },
 "nbformat": 4,
 "nbformat_minor": 2
}
