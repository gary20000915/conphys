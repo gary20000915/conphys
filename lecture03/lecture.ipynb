{
 "cells": [
  {
   "attachments": {},
   "cell_type": "markdown",
   "metadata": {},
   "source": [
    "### Basic python practices"
   ]
  },
  {
   "cell_type": "code",
   "execution_count": 28,
   "metadata": {},
   "outputs": [
    {
     "data": {
      "text/plain": [
       "7.0"
      ]
     },
     "execution_count": 28,
     "metadata": {},
     "output_type": "execute_result"
    }
   ],
   "source": [
    "# default calculator\n",
    "2+2*5/2"
   ]
  },
  {
   "cell_type": "code",
   "execution_count": 29,
   "metadata": {},
   "outputs": [
    {
     "name": "stdout",
     "output_type": "stream",
     "text": [
      "3.5 3 1\n"
     ]
    }
   ],
   "source": [
    "# python will autonatically trnasform integer to float when you are calculating.\n",
    "# division, take integer, take module\n",
    "print(7/2, 7//2, 7%2)"
   ]
  },
  {
   "cell_type": "code",
   "execution_count": 30,
   "metadata": {},
   "outputs": [
    {
     "name": "stdout",
     "output_type": "stream",
     "text": [
      "3.141592653589793\n",
      "-0.5365729180004349\n",
      "-2.0344439357957027\n",
      "1.1071487177940906\n"
     ]
    }
   ],
   "source": [
    "# math library (latter we will use numpy instead, which is fater and have better performance)\n",
    "import math\n",
    "\n",
    "print(math.pi)\n",
    "print(math.sin(12))\n",
    "\n",
    "# atan2 will consider what location you are; i.e., (+,+), (-,+), (+,-), (-,-); atan will not.\n",
    "print(math.atan2(-2, -1)) # consider \n",
    "print(math.atan(-2/-1))"
   ]
  },
  {
   "cell_type": "code",
   "execution_count": 31,
   "metadata": {},
   "outputs": [
    {
     "name": "stdout",
     "output_type": "stream",
     "text": [
      "1 2\n"
     ]
    }
   ],
   "source": [
    "# Capital and small are not the same.\n",
    "phys = 1\n",
    "# To avoid use capital in naming exclude class names.\n",
    "Phys = 2\n",
    "\n",
    "# private (still can change)\n",
    "_phys = True\n",
    "# strong private (cannot change in the latter cells)\n",
    "__phys = False\n",
    "\n",
    "# all capitals are means constant. (in cpp --> const)\n",
    "TWO = 2\n",
    "print(phys, Phys)\n",
    "\n",
    "# remember the memory allocation\n",
    "del phys\n",
    "# print(phys, Phys)"
   ]
  },
  {
   "cell_type": "code",
   "execution_count": 32,
   "metadata": {},
   "outputs": [
    {
     "name": "stdout",
     "output_type": "stream",
     "text": [
      "1,2,3 12\n"
     ]
    }
   ],
   "source": [
    "# the seporator: slash \"\\\" means change line (need the character in the beginning of the new line)\n",
    "# in PEP 8 sugegstions, calculating signs should be in fornt of the line not in the last of the  line.\n",
    "var = 1+2*3+4-5\\\n",
    "  -12 +3 -5\\\n",
    "  +6\n",
    "\n",
    "# if in the barket, just change line! It will use comma \",\" as a separator.\n",
    "print(\"1,2,3\", \n",
    "      12)\n",
    "\n",
    "# the indentation in general use a tab: for spaces!"
   ]
  },
  {
   "cell_type": "code",
   "execution_count": 50,
   "metadata": {},
   "outputs": [
    {
     "name": "stdout",
     "output_type": "stream",
     "text": [
      "N13 : 0.2956330062906513\n",
      "G15 : 0.2893220176065489\n"
     ]
    }
   ],
   "source": [
    "# exercise 1\n",
    "def den(rho, rho1, rho2, y1, y2, yc, Name):\n",
    "  x = max(-1,\n",
    "          min(1, \n",
    "              (2*math.log(rho) - math.log(rho2) - math.log(rho1))/(math.log(rho2) - math.log(rho1))\n",
    "              )\n",
    "          )\n",
    "  absx = abs(x)\n",
    "  y = 0.5*(y1 + y2) + x*0.5*(y2 - y1) + yc*(1 - absx + 4*absx*(absx - 0.5)*(absx - 1))\n",
    "\n",
    "  return print(Name, ':', y)\n",
    "\n",
    "# test sample\n",
    "rho = 1.e13\n",
    "\n",
    "# N13\n",
    "rho1, rho2 = 2.e7, 2.e13\n",
    "y1, y2     = 0.5 , 0.285\n",
    "yc         = 0.0035\n",
    "den(rho, rho1, rho2, y1, y2, yc, 'N13')\n",
    "\n",
    "# G15\n",
    "rho1, rho2 = 3.e7, 2.e13\n",
    "y1, y2     = 0.5 , 0.278\n",
    "yc         = 0.0035\n",
    "den(rho, rho1, rho2, y1, y2, yc, 'G15')"
   ]
  },
  {
   "cell_type": "code",
   "execution_count": 58,
   "metadata": {},
   "outputs": [
    {
     "name": "stdout",
     "output_type": "stream",
     "text": [
      "phys phys  \"phys \n",
      " how to \n",
      "print \"\\n\" use \\n\" \n"
     ]
    }
   ],
   "source": [
    "# ' ' and \" \" is the same for the strings; ''' ''' can be use a paragrapha!\n",
    "\n",
    "word = 'phys'\n",
    "sentence = \"phys\"\n",
    "paragraph = ''' \"phys \\n how to \n",
    "print \"\\\\n\" use \\\\n\" '''\n",
    "\n",
    "print(word, sentence, paragraph)"
   ]
  },
  {
   "cell_type": "code",
   "execution_count": 64,
   "metadata": {},
   "outputs": [
    {
     "name": "stdout",
     "output_type": "stream",
     "text": [
      "Hello World! Python rocks!\n",
      "H\n",
      "llo \n",
      "Hello World! Python rocks!Hello World! Python rocks!\n",
      "Hello World! Python rocks! Physics is fun!!\n",
      "Hello World! Python rocks!  Physics is fun!!\n",
      "['Hello', 'World!', 'Python', 'rocks!']\n",
      "['Hello World', ' Python rocks', '']\n"
     ]
    }
   ],
   "source": [
    "hello = 'Hello World! Python rocks!'\n",
    "\n",
    "print(hello)\n",
    "print(hello[0])\n",
    "print(hello[2:6])\n",
    "print(hello*2)\n",
    "print(hello + ' Physics is fun!!')\n",
    "print(hello, ' Physics is fun!!')\n",
    "print(hello.split())\n",
    "print(hello.split('!'))"
   ]
  },
  {
   "cell_type": "code",
   "execution_count": 84,
   "metadata": {},
   "outputs": [
    {
     "name": "stdout",
     "output_type": "stream",
     "text": [
      "1\n",
      "[3, 4]\n",
      "6\n",
      "{1, 2, 3}\n",
      "<class 'list'> <class 'tuple'> <class 'set'> <class 'dict'>\n"
     ]
    }
   ],
   "source": [
    "#  List and Tuple is ordered collections, but Tuple is not commutable! memory efficient-->Tuples; manually efficient-->List.\n",
    "#  set unordered collections; dictionary is unordered but we can use the key to find values.\n",
    "\n",
    "list  = [1,2,3,4,5] # ordered and mutable\n",
    "list.append(1)\n",
    "print(list[-1])\n",
    "print(list[2:4])\n",
    "print(len(list))\n",
    "\n",
    "tuple = (1,2,3)\n",
    "set   = {1,2,2,2,3} # the elements in set cannot be repeated!! Like mathematical set :)\n",
    "set.add(1)\n",
    "print(set)\n",
    "dict  = {'1':1, '2':2, '3':3}\n",
    "dict.update({'4':4})\n",
    "\n",
    "print(type(list), type(tuple), type(set), type(dict))"
   ]
  },
  {
   "cell_type": "code",
   "execution_count": 87,
   "metadata": {},
   "outputs": [
    {
     "name": "stdout",
     "output_type": "stream",
     "text": [
      "0\n",
      "1\n",
      "2\n",
      "3\n",
      "4\n",
      "5\n",
      "6\n",
      "7\n",
      "8\n",
      "9\n"
     ]
    }
   ],
   "source": [
    "for i in range(10):\n",
    "  print(i)"
   ]
  },
  {
   "cell_type": "code",
   "execution_count": 88,
   "metadata": {},
   "outputs": [
    {
     "name": "stdout",
     "output_type": "stream",
     "text": [
      "0\n",
      "2\n",
      "4\n",
      "6\n",
      "8\n"
     ]
    }
   ],
   "source": [
    "for i in range(0,10,2):\n",
    "  print(i)"
   ]
  },
  {
   "cell_type": "code",
   "execution_count": 89,
   "metadata": {},
   "outputs": [
    {
     "name": "stdout",
     "output_type": "stream",
     "text": [
      "Hi\n",
      "Hi\n"
     ]
    }
   ],
   "source": [
    "for _ in range(2):\n",
    "  print('Hi')"
   ]
  },
  {
   "cell_type": "code",
   "execution_count": null,
   "metadata": {},
   "outputs": [],
   "source": []
  }
 ],
 "metadata": {
  "kernelspec": {
   "display_name": "comphys",
   "language": "python",
   "name": "python3"
  },
  "language_info": {
   "codemirror_mode": {
    "name": "ipython",
    "version": 3
   },
   "file_extension": ".py",
   "mimetype": "text/x-python",
   "name": "python",
   "nbconvert_exporter": "python",
   "pygments_lexer": "ipython3",
   "version": "3.10.9"
  },
  "orig_nbformat": 4
 },
 "nbformat": 4,
 "nbformat_minor": 2
}
