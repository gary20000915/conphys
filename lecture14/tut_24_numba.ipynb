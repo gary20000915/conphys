{
 "cells": [
  {
   "attachments": {},
   "cell_type": "markdown",
   "metadata": {},
   "source": [
    "# `numba` Tutorial\n",
    "\n",
    "REF: https://numba.pydata.org/numba-doc/latest/user/index.html "
   ]
  },
  {
   "cell_type": "code",
   "execution_count": null,
   "metadata": {},
   "outputs": [],
   "source": [
    "# uncomment the below line to install numba\n",
    "#!conda install numba --yes"
   ]
  },
  {
   "cell_type": "code",
   "execution_count": 1,
   "metadata": {},
   "outputs": [],
   "source": [
    "import numpy as np\n",
    "from numba import jit"
   ]
  },
  {
   "attachments": {},
   "cell_type": "markdown",
   "metadata": {},
   "source": [
    "## Numba's `@jit`"
   ]
  },
  {
   "attachments": {},
   "cell_type": "markdown",
   "metadata": {},
   "source": [
    "Let's start from some simple python codes without `numba`."
   ]
  },
  {
   "cell_type": "code",
   "execution_count": null,
   "metadata": {},
   "outputs": [],
   "source": [
    "x = np.arange(100_00).reshape(100, 100)\n",
    "\n",
    "def some_func(a):\n",
    "    value = 0.0\n",
    "    for i in range(a.shape[0]):\n",
    "        for j in range(a.shape[1]):\n",
    "            value += np.tanh(a[i,j])\n",
    "    return value\n",
    "\n",
    "print(some_func(x)) \n"
   ]
  },
  {
   "cell_type": "code",
   "execution_count": null,
   "metadata": {},
   "outputs": [],
   "source": [
    "%timeit some_func(x)"
   ]
  },
  {
   "attachments": {},
   "cell_type": "markdown",
   "metadata": {},
   "source": [
    "Now, let's rewrite it with `numba`."
   ]
  },
  {
   "cell_type": "code",
   "execution_count": null,
   "metadata": {},
   "outputs": [],
   "source": [
    "@jit(nopython=True)\n",
    "def numba_func(a):\n",
    "    value = 0.0\n",
    "    for i in range(a.shape[0]):\n",
    "        for j in range(a.shape[1]):\n",
    "            value += np.tanh(a[i,j])\n",
    "    return value\n",
    "\n",
    "print(numba_func(x)) "
   ]
  },
  {
   "cell_type": "code",
   "execution_count": null,
   "metadata": {},
   "outputs": [],
   "source": [
    "%timeit numba_func(x)"
   ]
  },
  {
   "attachments": {},
   "cell_type": "markdown",
   "metadata": {},
   "source": [
    "The Numba `@jit` decorator fundamentally operates in two compilation modes, `nopython` mode and `object` mode. In the `numba_func` example above, `nopython=True` is set in the `@jit` decorator, this is instructing Numba to operate in `nopython` mode. The behaviour of the `nopython` compilation mode is to essentially compile the decorated function so that it will run entirely without the involvement of the Python interpreter. This is the recommended and best-practice way to use the Numba jit decorator as it leads to the best performance.\n",
    "\n",
    "Should the compilation in `nopython` mode fail, Numba can compile using `object` mode, this is a fall back mode for the `@jit` decorator if `nopython=True` is not set. In this mode Numba will identify loops that it can compile and compile those into functions that run in machine code, and it will run the rest of the code in the interpreter. For best performance avoid using this mode!"
   ]
  },
  {
   "attachments": {},
   "cell_type": "markdown",
   "metadata": {},
   "source": [
    "## Exercise 1: N-body\n",
    "\n",
    "Considering that there are `N=100_000` particles randomly distributed in a 3D Cartesian domain with `-5 < x/y/z < 5`. Use nested `for` loops to calculate the gravitational accerlation ($a = [a_x, a_y, a_z]$) of these particles. Assume the particle mass `m=1` and the gravitational constant `G=1`. \n",
    "\n",
    "The gravitational force is \n",
    "\n",
    "$\\begin{equation}\n",
    "F=- \\frac{GM_1M_2}{r^2},\n",
    "\\end{equation}$\n",
    "\n",
    "or\n",
    "\n",
    "$\\begin{equation}\n",
    "F_{21,x/y/z} = - \\frac{GM_1M_2}{r^3} r_{21,x/y/z},\n",
    "\\end{equation}$\n",
    "\n",
    "where $F_{21}$ is the force on the particle 2 (caused by particle 1), \n",
    "and $r_{21} = r_2 - r_1$.\n",
    "\n",
    "1. Pure `python`/`numpy` version with nestest `for` loop.\n",
    "2. Modify the above code with `numba`'s `@jit`.\n",
    "3. Compare the performance difference. \n",
    "\n",
    "Note: this exercise actually can be done purely with `numpy` functions (without `for` loop)."
   ]
  },
  {
   "cell_type": "code",
   "execution_count": null,
   "metadata": {},
   "outputs": [],
   "source": [
    "# TODO:\n",
    "\n",
    "\n",
    "\n",
    "\n",
    "\n",
    "\n",
    "\n",
    "\n",
    "\n",
    "\n",
    "\n"
   ]
  },
  {
   "attachments": {},
   "cell_type": "markdown",
   "metadata": {},
   "source": [
    "### `@vectorize`\n",
    "\n",
    "When we talk about the `ufunc` in `numba`, we had a numba example using the `@vectorize` decorator."
   ]
  },
  {
   "cell_type": "code",
   "execution_count": null,
   "metadata": {},
   "outputs": [],
   "source": [
    "from numba import vectorize, float64"
   ]
  },
  {
   "cell_type": "code",
   "execution_count": null,
   "metadata": {},
   "outputs": [],
   "source": [
    "# preparing the list\n",
    "N = 1_000_000\n",
    "py_list1 = [x for x in range(N)]\n",
    "py_list2 = [2.0*x for x in range(N)]\n",
    "np_list1 = np.arange(N)\n",
    "np_list2 = 2.0 * np.arange(N)"
   ]
  },
  {
   "cell_type": "code",
   "execution_count": null,
   "metadata": {},
   "outputs": [],
   "source": [
    "def python_add(x,y):\n",
    "    res = []\n",
    "    for v1,v2 in zip(x,y):\n",
    "        res.append(v1+v2)\n",
    "    return res\n",
    "\n",
    "list3 = python_add(py_list1,py_list2)\n",
    "print(list3)"
   ]
  },
  {
   "cell_type": "code",
   "execution_count": null,
   "metadata": {},
   "outputs": [],
   "source": [
    "%timeit python_add(py_list1,py_list2)"
   ]
  },
  {
   "attachments": {},
   "cell_type": "markdown",
   "metadata": {},
   "source": [
    "Numpy's vectorize"
   ]
  },
  {
   "cell_type": "code",
   "execution_count": null,
   "metadata": {},
   "outputs": [],
   "source": [
    "def np_add(x,y):\n",
    "    return x+y\n",
    "\n",
    "numpy_add = np.vectorize(np_add)"
   ]
  },
  {
   "cell_type": "code",
   "execution_count": null,
   "metadata": {},
   "outputs": [],
   "source": [
    "%timeit numpy_add(np_list1,np_list2)"
   ]
  },
  {
   "attachments": {},
   "cell_type": "markdown",
   "metadata": {},
   "source": [
    "Numba's version"
   ]
  },
  {
   "cell_type": "code",
   "execution_count": null,
   "metadata": {},
   "outputs": [],
   "source": [
    "@vectorize([float64(float64, float64)])\n",
    "def numba_add(x,y):\n",
    "    return x+y"
   ]
  },
  {
   "cell_type": "code",
   "execution_count": null,
   "metadata": {},
   "outputs": [],
   "source": [
    "%timeit list3 = numba_add(np_list1,np_list2)"
   ]
  },
  {
   "attachments": {},
   "cell_type": "markdown",
   "metadata": {},
   "source": [
    "## Automatic parallelization with `@jit`"
   ]
  },
  {
   "cell_type": "code",
   "execution_count": null,
   "metadata": {},
   "outputs": [],
   "source": [
    "from numba import njit, prange, set_num_threads"
   ]
  },
  {
   "attachments": {},
   "cell_type": "markdown",
   "metadata": {},
   "source": [
    "First, we shoule make the problem size slightly bigger."
   ]
  },
  {
   "cell_type": "code",
   "execution_count": null,
   "metadata": {},
   "outputs": [],
   "source": [
    "x = np.arange(25_00_00).reshape(500, 500)"
   ]
  },
  {
   "cell_type": "code",
   "execution_count": null,
   "metadata": {},
   "outputs": [],
   "source": [
    "# the numba version without parallel\n",
    "%timeit numba_func(x)"
   ]
  },
  {
   "cell_type": "code",
   "execution_count": null,
   "metadata": {},
   "outputs": [],
   "source": [
    "num_threads = 8 \n",
    "set_num_threads(int(num_threads))"
   ]
  },
  {
   "cell_type": "code",
   "execution_count": null,
   "metadata": {},
   "outputs": [],
   "source": [
    "@njit(parallel=True)\n",
    "def parallel_numba_func(a):\n",
    "    value = 0.0\n",
    "    for i in prange(a.shape[0]):\n",
    "        for j in prange(a.shape[1]):\n",
    "            value += np.tanh(a[i,j])\n",
    "    return value\n",
    "\n",
    "print(parallel_numba_func(x)) "
   ]
  },
  {
   "cell_type": "code",
   "execution_count": null,
   "metadata": {},
   "outputs": [],
   "source": [
    "%timeit parallel_numba_func(x)"
   ]
  },
  {
   "attachments": {},
   "cell_type": "markdown",
   "metadata": {},
   "source": [
    "## Exercise 2: N-body\n",
    "\n",
    "Re-do the Exercise 1 with `njit` and `prange`."
   ]
  },
  {
   "cell_type": "code",
   "execution_count": null,
   "metadata": {},
   "outputs": [],
   "source": [
    "#TODO:\n",
    "\n",
    "\n",
    "\n",
    "\n",
    "\n",
    "\n",
    "\n",
    "\n",
    "\n",
    "\n",
    "\n"
   ]
  },
  {
   "cell_type": "code",
   "execution_count": null,
   "metadata": {},
   "outputs": [],
   "source": []
  }
 ],
 "metadata": {
  "kernelspec": {
   "display_name": "comphys",
   "language": "python",
   "name": "python3"
  },
  "language_info": {
   "codemirror_mode": {
    "name": "ipython",
    "version": 3
   },
   "file_extension": ".py",
   "mimetype": "text/x-python",
   "name": "python",
   "nbconvert_exporter": "python",
   "pygments_lexer": "ipython3",
   "version": "3.10.11"
  },
  "orig_nbformat": 4
 },
 "nbformat": 4,
 "nbformat_minor": 2
}
